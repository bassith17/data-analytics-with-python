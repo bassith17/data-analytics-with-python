{
 "cells": [
  {
   "cell_type": "markdown",
   "id": "73d7efa5",
   "metadata": {},
   "source": [
    "# forloops"
   ]
  },
  {
   "cell_type": "markdown",
   "id": "0635b710",
   "metadata": {},
   "source": [
    "example 1 create a list"
   ]
  },
  {
   "cell_type": "code",
   "execution_count": 1,
   "id": "31aca4f3",
   "metadata": {},
   "outputs": [],
   "source": [
    "num1 = (1,2,3,4,5)"
   ]
  },
  {
   "cell_type": "code",
   "execution_count": 2,
   "id": "a53309bd",
   "metadata": {},
   "outputs": [],
   "source": [
    "num2 = (6,7,8,9,10)"
   ]
  },
  {
   "cell_type": "markdown",
   "id": "9ffdccba",
   "metadata": {},
   "source": [
    "printing the list"
   ]
  },
  {
   "cell_type": "code",
   "execution_count": 3,
   "id": "9d78e974",
   "metadata": {},
   "outputs": [
    {
     "name": "stdout",
     "output_type": "stream",
     "text": [
      "1\n",
      "2\n",
      "3\n",
      "4\n",
      "5\n"
     ]
    }
   ],
   "source": [
    "for i in num1:\n",
    "    print(i)"
   ]
  },
  {
   "cell_type": "code",
   "execution_count": 4,
   "id": "e7d8be32",
   "metadata": {},
   "outputs": [
    {
     "ename": "NameError",
     "evalue": "name 'x' is not defined",
     "output_type": "error",
     "traceback": [
      "\u001b[1;31m---------------------------------------------------------------------------\u001b[0m",
      "\u001b[1;31mNameError\u001b[0m                                 Traceback (most recent call last)",
      "Cell \u001b[1;32mIn[4], line 1\u001b[0m\n\u001b[1;32m----> 1\u001b[0m \u001b[38;5;28mtype\u001b[39m(\u001b[43mx\u001b[49m)\n",
      "\u001b[1;31mNameError\u001b[0m: name 'x' is not defined"
     ]
    }
   ],
   "source": [
    "type(x)"
   ]
  },
  {
   "cell_type": "code",
   "execution_count": null,
   "id": "3cf92f98",
   "metadata": {},
   "outputs": [],
   "source": [
    "for x in num2:\n",
    "    print(x)"
   ]
  },
  {
   "cell_type": "code",
   "execution_count": null,
   "id": "6429ab67",
   "metadata": {},
   "outputs": [],
   "source": [
    "print(i)"
   ]
  },
  {
   "cell_type": "code",
   "execution_count": 7,
   "id": "f0020708",
   "metadata": {},
   "outputs": [
    {
     "name": "stdout",
     "output_type": "stream",
     "text": [
      "1 is odd\n",
      "2 is even\n",
      "3 is odd\n",
      "4 is even\n",
      "5 is odd\n"
     ]
    }
   ],
   "source": [
    "for x in num1 :\n",
    "    if x%2 == 0:\n",
    "        print(f\"{x} is even\")\n",
    "    else:\n",
    "        print(f\"{x} is odd\")"
   ]
  },
  {
   "cell_type": "markdown",
   "id": "96021164",
   "metadata": {},
   "source": [
    "name in how many letter is  there is printing"
   ]
  },
  {
   "cell_type": "code",
   "execution_count": null,
   "id": "99011d06",
   "metadata": {},
   "outputs": [],
   "source": [
    "for _ in 'name':\n",
    "    print(\"hi\")"
   ]
  },
  {
   "cell_type": "code",
   "execution_count": null,
   "id": "476dfc62",
   "metadata": {},
   "outputs": [],
   "source": [
    "for _ in num1:\n",
    "    print(\"hi\")"
   ]
  },
  {
   "cell_type": "code",
   "execution_count": null,
   "id": "ef7a474d",
   "metadata": {},
   "outputs": [],
   "source": [
    "for _ in 3:\n",
    "    print(\"hi\")"
   ]
  },
  {
   "cell_type": "markdown",
   "id": "f08611a7",
   "metadata": {},
   "source": [
    "# while loop or condition loop"
   ]
  },
  {
   "cell_type": "code",
   "execution_count": null,
   "id": "6e902c7b",
   "metadata": {},
   "outputs": [],
   "source": [
    " n = input(\"Enter a number\")\n",
    "val = 0\n",
    "i = 0\n",
    "\n",
    "while i <= int(i):\n",
    "        val += i\n",
    "        i += 1 \n",
    "        print(f\"The sum is {val}\")    "
   ]
  },
  {
   "cell_type": "code",
   "execution_count": 5,
   "id": "e47c002f",
   "metadata": {},
   "outputs": [
    {
     "name": "stdout",
     "output_type": "stream",
     "text": [
      "inside loop\n",
      "inside loop\n",
      "inside loop\n",
      "inside loop\n",
      "inside loop\n",
      "get Out of loop\n"
     ]
    }
   ],
   "source": [
    "counter = 0\n",
    "while counter < 5:\n",
    "    print(\"inside loop\")\n",
    "    counter = counter + 1\n",
    "else:\n",
    "    print(\"get Out of loop\")"
   ]
  },
  {
   "cell_type": "code",
   "execution_count": null,
   "id": "2fd1d422",
   "metadata": {},
   "outputs": [],
   "source": [
    "counter = 0\n",
    "while counter < 5:\n",
    "    print(\"inside loop\")\n",
    "    counter = counter + 1\n",
    "else:\n",
    "    print(\"get Out of loop\")"
   ]
  },
  {
   "cell_type": "code",
   "execution_count": null,
   "id": "ea49230c",
   "metadata": {},
   "outputs": [],
   "source": []
  },
  {
   "cell_type": "code",
   "execution_count": null,
   "id": "9ab9661b",
   "metadata": {},
   "outputs": [],
   "source": []
  },
  {
   "cell_type": "code",
   "execution_count": null,
   "id": "c85de071",
   "metadata": {},
   "outputs": [],
   "source": []
  },
  {
   "cell_type": "code",
   "execution_count": null,
   "id": "dde80fd7",
   "metadata": {},
   "outputs": [],
   "source": []
  }
 ],
 "metadata": {
  "kernelspec": {
   "display_name": "Python 3 (ipykernel)",
   "language": "python",
   "name": "python3"
  },
  "language_info": {
   "codemirror_mode": {
    "name": "ipython",
    "version": 3
   },
   "file_extension": ".py",
   "mimetype": "text/x-python",
   "name": "python",
   "nbconvert_exporter": "python",
   "pygments_lexer": "ipython3",
   "version": "3.9.16"
  }
 },
 "nbformat": 4,
 "nbformat_minor": 5
}
