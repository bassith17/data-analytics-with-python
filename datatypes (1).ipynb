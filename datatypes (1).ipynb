{
 "cells": [
  {
   "cell_type": "markdown",
   "id": "7f419031",
   "metadata": {},
   "source": [
    "# datatypes"
   ]
  },
  {
   "cell_type": "code",
   "execution_count": 8,
   "id": "fc39a32c",
   "metadata": {},
   "outputs": [
    {
     "name": "stdout",
     "output_type": "stream",
     "text": [
      "<class 'str'>\n",
      "<class 'int'>\n",
      "<class 'complex'>\n"
     ]
    }
   ],
   "source": [
    "a='virat'\n",
    "b=18\n",
    "c=2+3j\n",
    "print(type(a))\n",
    "print(type(b))\n",
    "print(type(c))"
   ]
  },
  {
   "cell_type": "markdown",
   "id": "261ce938",
   "metadata": {},
   "source": [
    "# array and it's operation"
   ]
  },
  {
   "cell_type": "code",
   "execution_count": 32,
   "id": "55eb17e7",
   "metadata": {},
   "outputs": [],
   "source": [
    "import array as ar"
   ]
  },
  {
   "cell_type": "code",
   "execution_count": 33,
   "id": "66c9c92d",
   "metadata": {},
   "outputs": [],
   "source": [
    "A=ar.array('i',[4,8,93,12,11])\n",
    "B=ar.array('d',[23,64,12,1,45])     #i-integer,d-decimal"
   ]
  },
  {
   "cell_type": "code",
   "execution_count": 34,
   "id": "b4f4ca3e",
   "metadata": {},
   "outputs": [
    {
     "data": {
      "text/plain": [
       "array('i', [4, 8, 93, 12, 11])"
      ]
     },
     "execution_count": 34,
     "metadata": {},
     "output_type": "execute_result"
    }
   ],
   "source": [
    "A"
   ]
  },
  {
   "cell_type": "code",
   "execution_count": 35,
   "id": "162ec480",
   "metadata": {},
   "outputs": [
    {
     "data": {
      "text/plain": [
       "array('d', [23.0, 64.0, 12.0, 1.0, 45.0])"
      ]
     },
     "execution_count": 35,
     "metadata": {},
     "output_type": "execute_result"
    }
   ],
   "source": [
    "B"
   ]
  },
  {
   "cell_type": "code",
   "execution_count": 36,
   "id": "77ae1fc4",
   "metadata": {},
   "outputs": [],
   "source": [
    "A.append(34)    #append use to add single element"
   ]
  },
  {
   "cell_type": "code",
   "execution_count": 37,
   "id": "a52a9c5e",
   "metadata": {},
   "outputs": [
    {
     "data": {
      "text/plain": [
       "array('i', [4, 8, 93, 12, 11, 34])"
      ]
     },
     "execution_count": 37,
     "metadata": {},
     "output_type": "execute_result"
    }
   ],
   "source": [
    "A"
   ]
  },
  {
   "cell_type": "code",
   "execution_count": 38,
   "id": "12f303b9",
   "metadata": {},
   "outputs": [],
   "source": [
    "A.extend([5,53,32,9])    #extend use to add more than one element"
   ]
  },
  {
   "cell_type": "code",
   "execution_count": 39,
   "id": "be15aa61",
   "metadata": {},
   "outputs": [
    {
     "data": {
      "text/plain": [
       "array('i', [4, 8, 93, 12, 11, 34, 5, 53, 32, 9])"
      ]
     },
     "execution_count": 39,
     "metadata": {},
     "output_type": "execute_result"
    }
   ],
   "source": [
    "A"
   ]
  },
  {
   "cell_type": "code",
   "execution_count": 40,
   "id": "e4a4cc9a",
   "metadata": {},
   "outputs": [],
   "source": [
    "A.insert(4,44)     #insert use to add element in specific place syn:A.insert(sepcific place,element to add)"
   ]
  },
  {
   "cell_type": "code",
   "execution_count": 41,
   "id": "d61abcbe",
   "metadata": {},
   "outputs": [
    {
     "data": {
      "text/plain": [
       "array('i', [4, 8, 93, 12, 44, 11, 34, 5, 53, 32, 9])"
      ]
     },
     "execution_count": 41,
     "metadata": {},
     "output_type": "execute_result"
    }
   ],
   "source": [
    "A"
   ]
  },
  {
   "cell_type": "code",
   "execution_count": 42,
   "id": "7a08e34d",
   "metadata": {},
   "outputs": [],
   "source": [
    "A.remove(44)     #remove use to delete perticular element"
   ]
  },
  {
   "cell_type": "code",
   "execution_count": 43,
   "id": "5eb54357",
   "metadata": {},
   "outputs": [
    {
     "data": {
      "text/plain": [
       "array('i', [4, 8, 93, 12, 11, 34, 5, 53, 32, 9])"
      ]
     },
     "execution_count": 43,
     "metadata": {},
     "output_type": "execute_result"
    }
   ],
   "source": [
    "A"
   ]
  },
  {
   "cell_type": "code",
   "execution_count": 44,
   "id": "8330934c",
   "metadata": {},
   "outputs": [
    {
     "data": {
      "text/plain": [
       "11"
      ]
     },
     "execution_count": 44,
     "metadata": {},
     "output_type": "execute_result"
    }
   ],
   "source": [
    "A.pop(4)    #pop used to remove perticular placed element"
   ]
  },
  {
   "cell_type": "code",
   "execution_count": 45,
   "id": "71bda8e3",
   "metadata": {},
   "outputs": [
    {
     "data": {
      "text/plain": [
       "array('i', [4, 8, 93, 12, 34, 5, 53, 32, 9])"
      ]
     },
     "execution_count": 45,
     "metadata": {},
     "output_type": "execute_result"
    }
   ],
   "source": [
    "A"
   ]
  },
  {
   "cell_type": "code",
   "execution_count": 46,
   "id": "1dc18f1e",
   "metadata": {},
   "outputs": [],
   "source": [
    "A.extend([1])"
   ]
  },
  {
   "cell_type": "code",
   "execution_count": 47,
   "id": "089720b2",
   "metadata": {},
   "outputs": [
    {
     "data": {
      "text/plain": [
       "array('i', [4, 8, 93, 12, 34, 5, 53, 32, 9, 1])"
      ]
     },
     "execution_count": 47,
     "metadata": {},
     "output_type": "execute_result"
    }
   ],
   "source": [
    "A"
   ]
  },
  {
   "cell_type": "code",
   "execution_count": 49,
   "id": "01395168",
   "metadata": {},
   "outputs": [
    {
     "data": {
      "text/plain": [
       "array('i', [93, 12, 34, 5, 53, 32, 9])"
      ]
     },
     "execution_count": 49,
     "metadata": {},
     "output_type": "execute_result"
    }
   ],
   "source": [
    "A[2:9]                     #to view limiteted elements 2-8th elements.it called slice methode"
   ]
  },
  {
   "cell_type": "code",
   "execution_count": 50,
   "id": "d5203a4f",
   "metadata": {},
   "outputs": [
    {
     "data": {
      "text/plain": [
       "array('i', [93, 12, 34, 5, 53, 32, 9, 1])"
      ]
     },
     "execution_count": 50,
     "metadata": {},
     "output_type": "execute_result"
    }
   ],
   "source": [
    "A[2:]"
   ]
  },
  {
   "cell_type": "code",
   "execution_count": 52,
   "id": "29eaebf7",
   "metadata": {},
   "outputs": [
    {
     "data": {
      "text/plain": [
       "array('i', [4, 12, 53, 1])"
      ]
     },
     "execution_count": 52,
     "metadata": {},
     "output_type": "execute_result"
    }
   ],
   "source": [
    "A[::3]"
   ]
  },
  {
   "cell_type": "code",
   "execution_count": 53,
   "id": "435513e6",
   "metadata": {},
   "outputs": [
    {
     "data": {
      "text/plain": [
       "array('i', [4, 8, 93, 12, 34])"
      ]
     },
     "execution_count": 53,
     "metadata": {},
     "output_type": "execute_result"
    }
   ],
   "source": [
    "A[:5]"
   ]
  },
  {
   "cell_type": "code",
   "execution_count": 54,
   "id": "53deba67",
   "metadata": {},
   "outputs": [
    {
     "data": {
      "text/plain": [
       "array('i', [93, 12, 34, 5, 53, 32, 9, 1])"
      ]
     },
     "execution_count": 54,
     "metadata": {},
     "output_type": "execute_result"
    }
   ],
   "source": [
    "A[2::]"
   ]
  },
  {
   "cell_type": "code",
   "execution_count": 56,
   "id": "cd23b175",
   "metadata": {},
   "outputs": [
    {
     "data": {
      "text/plain": [
       "10"
      ]
     },
     "execution_count": 56,
     "metadata": {},
     "output_type": "execute_result"
    }
   ],
   "source": [
    "len(A)          #len used to find lenght of array"
   ]
  },
  {
   "cell_type": "code",
   "execution_count": 62,
   "id": "f24bae87",
   "metadata": {},
   "outputs": [
    {
     "data": {
      "text/plain": [
       "array('i', [1, 9, 32, 53, 5, 34, 12, 93, 8, 4])"
      ]
     },
     "execution_count": 62,
     "metadata": {},
     "output_type": "execute_result"
    }
   ],
   "source": [
    "A.reverse()\n",
    "A                                  #to write given array elements in reverse order"
   ]
  },
  {
   "cell_type": "markdown",
   "id": "c60f35bd",
   "metadata": {},
   "source": [
    "#                                      list"
   ]
  },
  {
   "cell_type": "code",
   "execution_count": 63,
   "id": "0429823c",
   "metadata": {},
   "outputs": [],
   "source": [
    "a=[\"v\",9,2.5,\"ss\"]"
   ]
  },
  {
   "cell_type": "code",
   "execution_count": 64,
   "id": "6a8b0bc3",
   "metadata": {},
   "outputs": [
    {
     "data": {
      "text/plain": [
       "list"
      ]
     },
     "execution_count": 64,
     "metadata": {},
     "output_type": "execute_result"
    }
   ],
   "source": [
    "type(a)"
   ]
  },
  {
   "cell_type": "code",
   "execution_count": 65,
   "id": "81bd4409",
   "metadata": {},
   "outputs": [
    {
     "data": {
      "text/plain": [
       "['v', 9, 2.5, 'ss']"
      ]
     },
     "execution_count": 65,
     "metadata": {},
     "output_type": "execute_result"
    }
   ],
   "source": [
    "a"
   ]
  },
  {
   "cell_type": "code",
   "execution_count": 66,
   "id": "8eb70f6d",
   "metadata": {},
   "outputs": [
    {
     "data": {
      "text/plain": [
       "4"
      ]
     },
     "execution_count": 66,
     "metadata": {},
     "output_type": "execute_result"
    }
   ],
   "source": [
    "len(a)"
   ]
  },
  {
   "cell_type": "code",
   "execution_count": 68,
   "id": "7af87b8b",
   "metadata": {},
   "outputs": [
    {
     "data": {
      "text/plain": [
       "9"
      ]
     },
     "execution_count": 68,
     "metadata": {},
     "output_type": "execute_result"
    }
   ],
   "source": [
    "a[1]"
   ]
  },
  {
   "cell_type": "code",
   "execution_count": 69,
   "id": "1ebdc14a",
   "metadata": {},
   "outputs": [
    {
     "data": {
      "text/plain": [
       "2.5"
      ]
     },
     "execution_count": 69,
     "metadata": {},
     "output_type": "execute_result"
    }
   ],
   "source": [
    "a[-2]"
   ]
  },
  {
   "cell_type": "code",
   "execution_count": 70,
   "id": "00819133",
   "metadata": {},
   "outputs": [
    {
     "data": {
      "text/plain": [
       "'v'"
      ]
     },
     "execution_count": 70,
     "metadata": {},
     "output_type": "execute_result"
    }
   ],
   "source": [
    "a[-4]"
   ]
  },
  {
   "cell_type": "code",
   "execution_count": 72,
   "id": "751ea54e",
   "metadata": {},
   "outputs": [],
   "source": [
    "a.append(\"j\")"
   ]
  },
  {
   "cell_type": "code",
   "execution_count": 73,
   "id": "914d26da",
   "metadata": {},
   "outputs": [
    {
     "data": {
      "text/plain": [
       "['v', 9, 2.5, 'ss', 'j']"
      ]
     },
     "execution_count": 73,
     "metadata": {},
     "output_type": "execute_result"
    }
   ],
   "source": [
    "a"
   ]
  },
  {
   "cell_type": "code",
   "execution_count": 75,
   "id": "320aabfe",
   "metadata": {},
   "outputs": [
    {
     "data": {
      "text/plain": [
       "['v', 9, 2.5, 'ss', 'j', 87, 'k', 4j, 87, 'k', 4j]"
      ]
     },
     "execution_count": 75,
     "metadata": {},
     "output_type": "execute_result"
    }
   ],
   "source": [
    "a.extend([87,\"k\",4j])\n",
    "a"
   ]
  },
  {
   "cell_type": "code",
   "execution_count": 76,
   "id": "2b6b32f7",
   "metadata": {},
   "outputs": [],
   "source": [
    "a.remove(\"k\")"
   ]
  },
  {
   "cell_type": "code",
   "execution_count": 77,
   "id": "f4ae807a",
   "metadata": {},
   "outputs": [],
   "source": [
    "a.remove(87)"
   ]
  },
  {
   "cell_type": "code",
   "execution_count": 78,
   "id": "2cc9f290",
   "metadata": {},
   "outputs": [],
   "source": [
    "a.remove(4j)"
   ]
  },
  {
   "cell_type": "code",
   "execution_count": 79,
   "id": "e4039432",
   "metadata": {},
   "outputs": [
    {
     "data": {
      "text/plain": [
       "['v', 9, 2.5, 'ss', 'j', 87, 'k', 4j]"
      ]
     },
     "execution_count": 79,
     "metadata": {},
     "output_type": "execute_result"
    }
   ],
   "source": [
    "a"
   ]
  },
  {
   "cell_type": "code",
   "execution_count": 80,
   "id": "77fc0aba",
   "metadata": {},
   "outputs": [
    {
     "data": {
      "text/plain": [
       "'ss'"
      ]
     },
     "execution_count": 80,
     "metadata": {},
     "output_type": "execute_result"
    }
   ],
   "source": [
    "a.pop(3)"
   ]
  },
  {
   "cell_type": "code",
   "execution_count": 81,
   "id": "b3e81155",
   "metadata": {},
   "outputs": [
    {
     "data": {
      "text/plain": [
       "['v', 9, 2.5, 'j', 87, 'k', 4j]"
      ]
     },
     "execution_count": 81,
     "metadata": {},
     "output_type": "execute_result"
    }
   ],
   "source": [
    "a"
   ]
  },
  {
   "cell_type": "code",
   "execution_count": 82,
   "id": "e49a2521",
   "metadata": {},
   "outputs": [],
   "source": [
    "del a[2]"
   ]
  },
  {
   "cell_type": "code",
   "execution_count": 83,
   "id": "ebeb0672",
   "metadata": {},
   "outputs": [
    {
     "data": {
      "text/plain": [
       "['v', 9, 'j', 87, 'k', 4j]"
      ]
     },
     "execution_count": 83,
     "metadata": {},
     "output_type": "execute_result"
    }
   ],
   "source": [
    "a"
   ]
  },
  {
   "cell_type": "code",
   "execution_count": 85,
   "id": "48f2177e",
   "metadata": {},
   "outputs": [
    {
     "data": {
      "text/plain": [
       "['v', 9, 'j', 87, 'k']"
      ]
     },
     "execution_count": 85,
     "metadata": {},
     "output_type": "execute_result"
    }
   ],
   "source": [
    "a.pop()\n",
    "a"
   ]
  },
  {
   "cell_type": "code",
   "execution_count": 89,
   "id": "08f5a794",
   "metadata": {},
   "outputs": [
    {
     "data": {
      "text/plain": [
       "['v', 9, 'j', 87, 'k']"
      ]
     },
     "execution_count": 89,
     "metadata": {},
     "output_type": "execute_result"
    }
   ],
   "source": [
    "b=a.copy()\n",
    "b"
   ]
  },
  {
   "cell_type": "code",
   "execution_count": 91,
   "id": "6668149a",
   "metadata": {},
   "outputs": [
    {
     "data": {
      "text/plain": [
       "['v', 9, 'j', 87, 'k', 'v', 9, 'j', 87, 'k']"
      ]
     },
     "execution_count": 91,
     "metadata": {},
     "output_type": "execute_result"
    }
   ],
   "source": [
    "c=a+b\n",
    "c"
   ]
  },
  {
   "cell_type": "markdown",
   "id": "415f815f",
   "metadata": {},
   "source": [
    "#                             tuples"
   ]
  },
  {
   "cell_type": "code",
   "execution_count": 93,
   "id": "9c3ee832",
   "metadata": {},
   "outputs": [],
   "source": [
    "a=(\"aa\",5j,4,\"dd\")"
   ]
  },
  {
   "cell_type": "code",
   "execution_count": 94,
   "id": "6f4aafe8",
   "metadata": {},
   "outputs": [
    {
     "data": {
      "text/plain": [
       "('aa', 5j, 4, 'dd')"
      ]
     },
     "execution_count": 94,
     "metadata": {},
     "output_type": "execute_result"
    }
   ],
   "source": [
    "a"
   ]
  },
  {
   "cell_type": "code",
   "execution_count": 95,
   "id": "b683ad05",
   "metadata": {},
   "outputs": [
    {
     "data": {
      "text/plain": [
       "4"
      ]
     },
     "execution_count": 95,
     "metadata": {},
     "output_type": "execute_result"
    }
   ],
   "source": [
    "len(a)"
   ]
  },
  {
   "cell_type": "code",
   "execution_count": 98,
   "id": "c8cd3113",
   "metadata": {},
   "outputs": [
    {
     "ename": "AttributeError",
     "evalue": "'tuple' object has no attribute 'append'",
     "output_type": "error",
     "traceback": [
      "\u001b[1;31m---------------------------------------------------------------------------\u001b[0m",
      "\u001b[1;31mAttributeError\u001b[0m                            Traceback (most recent call last)",
      "Cell \u001b[1;32mIn[98], line 1\u001b[0m\n\u001b[1;32m----> 1\u001b[0m \u001b[43ma\u001b[49m\u001b[38;5;241;43m.\u001b[39;49m\u001b[43mappend\u001b[49m[\u001b[38;5;241m6\u001b[39m]\n",
      "\u001b[1;31mAttributeError\u001b[0m: 'tuple' object has no attribute 'append'"
     ]
    }
   ],
   "source": [
    "a.append[6]         #it doesn't work because immutable"
   ]
  },
  {
   "cell_type": "code",
   "execution_count": null,
   "id": "e6813edd",
   "metadata": {},
   "outputs": [],
   "source": []
  }
 ],
 "metadata": {
  "kernelspec": {
   "display_name": "Python 3 (ipykernel)",
   "language": "python",
   "name": "python3"
  },
  "language_info": {
   "codemirror_mode": {
    "name": "ipython",
    "version": 3
   },
   "file_extension": ".py",
   "mimetype": "text/x-python",
   "name": "python",
   "nbconvert_exporter": "python",
   "pygments_lexer": "ipython3",
   "version": "3.9.16"
  }
 },
 "nbformat": 4,
 "nbformat_minor": 5
}
