{
 "cells": [
  {
   "cell_type": "code",
   "execution_count": 10,
   "id": "5d5933e0",
   "metadata": {},
   "outputs": [
    {
     "name": "stdout",
     "output_type": "stream",
     "text": [
      "enter the num:20\n",
      "enter the num:10\n"
     ]
    }
   ],
   "source": [
    "no1 = input(\"enter the num:\")\n",
    "no2 = input(\"enter the num:\")"
   ]
  },
  {
   "cell_type": "markdown",
   "id": "bd06e8f1",
   "metadata": {},
   "source": [
    "if <expression>:\n",
    "    <statment(s)>"
   ]
  },
  {
   "cell_type": "code",
   "execution_count": 7,
   "id": "3124158d",
   "metadata": {},
   "outputs": [
    {
     "name": "stdout",
     "output_type": "stream",
     "text": [
      "the number 20 is greater than 10\n"
     ]
    }
   ],
   "source": [
    "if int(no1)>int(no2):\n",
    "    print(f\"the number {no1} is greater than {no2}\")"
   ]
  },
  {
   "cell_type": "code",
   "execution_count": 13,
   "id": "5648aabb",
   "metadata": {},
   "outputs": [
    {
     "ename": "SyntaxError",
     "evalue": "invalid syntax (2999008017.py, line 1)",
     "output_type": "error",
     "traceback": [
      "\u001b[1;36m  Cell \u001b[1;32mIn[13], line 1\u001b[1;36m\u001b[0m\n\u001b[1;33m    if int(no1)%2=0:\u001b[0m\n\u001b[1;37m                 ^\u001b[0m\n\u001b[1;31mSyntaxError\u001b[0m\u001b[1;31m:\u001b[0m invalid syntax\n"
     ]
    }
   ],
   "source": [
    "if int(no1)%2=0:\n",
    "    print(f\"the num {no1} )"
   ]
  },
  {
   "cell_type": "code",
   "execution_count": 41,
   "id": "29aab74f",
   "metadata": {},
   "outputs": [
    {
     "name": "stdout",
     "output_type": "stream",
     "text": [
      "no1:12\n",
      "no2:13\n"
     ]
    }
   ],
   "source": [
    "a = int(input(\"no1:\"))\n",
    "b = int(input(\"no2:\"))\n",
    "if int(a)%int(b) ==0:\n",
    "    print(f\"the divided num is:{a}\")\n",
    "          "
   ]
  },
  {
   "cell_type": "code",
   "execution_count": 29,
   "id": "3b9a8380",
   "metadata": {},
   "outputs": [
    {
     "name": "stdout",
     "output_type": "stream",
     "text": [
      "the number 12 is negative.\n",
      "the number 34 is postive.\n"
     ]
    }
   ],
   "source": [
    "if int (a)>=0:\n",
    "    print(f\"the number {a} is negative.\")\n",
    "    print(f\"the number {b} is postive.\")"
   ]
  },
  {
   "cell_type": "code",
   "execution_count": 24,
   "id": "b352bb87",
   "metadata": {},
   "outputs": [
    {
     "name": "stdout",
     "output_type": "stream",
     "text": [
      "the number 12 is negative.\n"
     ]
    }
   ],
   "source": [
    "if int (a)>=0:\n",
    "    print(f\"the number {a} is negative.\")\n",
    "else:\n",
    "    print(f\"the number {b} is postive.\")"
   ]
  },
  {
   "cell_type": "code",
   "execution_count": 35,
   "id": "6a95029e",
   "metadata": {},
   "outputs": [
    {
     "name": "stdout",
     "output_type": "stream",
     "text": [
      "the number 11 is bigger.\n"
     ]
    }
   ],
   "source": [
    "if int (a)>=0:\n",
    "    print(f\"the number {a} is bigger.\")\n",
    "else:\n",
    "    print(f\"the number {b} is smaller.\")"
   ]
  },
  {
   "cell_type": "code",
   "execution_count": 45,
   "id": "71d2c367",
   "metadata": {},
   "outputs": [
    {
     "name": "stdout",
     "output_type": "stream",
     "text": [
      "the number 12 is lesser than 13.\n"
     ]
    }
   ],
   "source": [
    "if  int (a)>int(b):\n",
    "    print(f\"the number {a} is greater than {b}.\")\n",
    "elif int(a) ==  int(b):\n",
    "    print(\"both number are equal.\")\n",
    "else:\n",
    "    print(f\"the number {a} is lesser than {b}.\")"
   ]
  },
  {
   "cell_type": "code",
   "execution_count": null,
   "id": "481e0de3",
   "metadata": {},
   "outputs": [],
   "source": []
  }
 ],
 "metadata": {
  "kernelspec": {
   "display_name": "Python 3 (ipykernel)",
   "language": "python",
   "name": "python3"
  },
  "language_info": {
   "codemirror_mode": {
    "name": "ipython",
    "version": 3
   },
   "file_extension": ".py",
   "mimetype": "text/x-python",
   "name": "python",
   "nbconvert_exporter": "python",
   "pygments_lexer": "ipython3",
   "version": "3.9.16"
  }
 },
 "nbformat": 4,
 "nbformat_minor": 5
}
