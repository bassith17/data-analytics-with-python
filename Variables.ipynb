{
 "cells": [
  {
   "cell_type": "code",
   "execution_count": 6,
   "id": "15846e5e",
   "metadata": {},
   "outputs": [
    {
     "name": "stdout",
     "output_type": "stream",
     "text": [
      "7\n"
     ]
    }
   ],
   "source": [
    "a=7\n",
    "print(a)\n",
    "\n"
   ]
  },
  {
   "cell_type": "code",
   "execution_count": 29,
   "id": "fc9b318d",
   "metadata": {},
   "outputs": [],
   "source": [
    "a,b,c,d=1,2,3,4\n"
   ]
  },
  {
   "cell_type": "code",
   "execution_count": 38,
   "id": "48771fa7",
   "metadata": {},
   "outputs": [],
   "source": [
    "name,age,num,reg='abdul',18,9003027769,121012169242"
   ]
  },
  {
   "cell_type": "code",
   "execution_count": 39,
   "id": "c839f834",
   "metadata": {},
   "outputs": [
    {
     "data": {
      "text/plain": [
       "'abdul'"
      ]
     },
     "execution_count": 39,
     "metadata": {},
     "output_type": "execute_result"
    }
   ],
   "source": [
    "name\n"
   ]
  },
  {
   "cell_type": "code",
   "execution_count": 40,
   "id": "f6035113",
   "metadata": {},
   "outputs": [
    {
     "data": {
      "text/plain": [
       "18"
      ]
     },
     "execution_count": 40,
     "metadata": {},
     "output_type": "execute_result"
    }
   ],
   "source": [
    "age"
   ]
  },
  {
   "cell_type": "code",
   "execution_count": 8,
   "id": "ef54186b",
   "metadata": {},
   "outputs": [
    {
     "data": {
      "text/plain": [
       "9003027769"
      ]
     },
     "execution_count": 8,
     "metadata": {},
     "output_type": "execute_result"
    }
   ],
   "source": [
    "9003027769\n"
   ]
  },
  {
   "cell_type": "raw",
   "id": "23813654",
   "metadata": {},
   "source": []
  },
  {
   "cell_type": "code",
   "execution_count": null,
   "id": "9943ec6c",
   "metadata": {},
   "outputs": [],
   "source": []
  },
  {
   "cell_type": "markdown",
   "id": "1fad0327",
   "metadata": {},
   "source": []
  },
  {
   "cell_type": "code",
   "execution_count": 42,
   "id": "435fc78b",
   "metadata": {},
   "outputs": [
    {
     "data": {
      "text/plain": [
       "121012169242"
      ]
     },
     "execution_count": 42,
     "metadata": {},
     "output_type": "execute_result"
    }
   ],
   "source": [
    "reg"
   ]
  },
  {
   "cell_type": "code",
   "execution_count": 46,
   "id": "406896a7",
   "metadata": {},
   "outputs": [
    {
     "data": {
      "text/plain": [
       "int"
      ]
     },
     "execution_count": 46,
     "metadata": {},
     "output_type": "execute_result"
    }
   ],
   "source": [
    "type(reg)"
   ]
  },
  {
   "cell_type": "code",
   "execution_count": 47,
   "id": "bb0247a0",
   "metadata": {},
   "outputs": [
    {
     "data": {
      "text/plain": [
       "int"
      ]
     },
     "execution_count": 47,
     "metadata": {},
     "output_type": "execute_result"
    }
   ],
   "source": [
    "type(900302769)"
   ]
  },
  {
   "cell_type": "code",
   "execution_count": 48,
   "id": "dcfae711",
   "metadata": {},
   "outputs": [
    {
     "data": {
      "text/plain": [
       "str"
      ]
     },
     "execution_count": 48,
     "metadata": {},
     "output_type": "execute_result"
    }
   ],
   "source": [
    "type(name)"
   ]
  },
  {
   "cell_type": "code",
   "execution_count": 51,
   "id": "2ad6f3f2",
   "metadata": {},
   "outputs": [],
   "source": [
    "a,b,d,c='!','@','#','$'"
   ]
  },
  {
   "cell_type": "code",
   "execution_count": 52,
   "id": "3613ea11",
   "metadata": {},
   "outputs": [
    {
     "data": {
      "text/plain": [
       "('!', '@', '$', '#')"
      ]
     },
     "execution_count": 52,
     "metadata": {},
     "output_type": "execute_result"
    }
   ],
   "source": [
    "a,b,c,d"
   ]
  },
  {
   "cell_type": "code",
   "execution_count": 1,
   "id": "7a58f077",
   "metadata": {},
   "outputs": [
    {
     "name": "stdout",
     "output_type": "stream",
     "text": [
      "104 204\n"
     ]
    }
   ],
   "source": [
    "x=100\n",
    "y=x+2\n",
    "y=2*y\n",
    "x=y-x\n",
    "print(x,y)"
   ]
  },
  {
   "cell_type": "code",
   "execution_count": 5,
   "id": "959c8692",
   "metadata": {},
   "outputs": [
    {
     "name": "stdout",
     "output_type": "stream",
     "text": [
      "14400000000 120000\n"
     ]
    }
   ],
   "source": [
    "x=200\n",
    "y=x*x\n",
    "y=y*3\n",
    "x=y*y\n",
    "print(x,y)"
   ]
  },
  {
   "cell_type": "code",
   "execution_count": 12,
   "id": "8000596a",
   "metadata": {},
   "outputs": [
    {
     "name": "stdout",
     "output_type": "stream",
     "text": [
      "abdul\n"
     ]
    }
   ],
   "source": [
    "variable_name=input()"
   ]
  },
  {
   "cell_type": "code",
   "execution_count": 16,
   "id": "f1cae79c",
   "metadata": {},
   "outputs": [
    {
     "name": "stdout",
     "output_type": "stream",
     "text": [
      "enter the first num:11\n",
      "enter the second num:12\n",
      "11 12\n"
     ]
    }
   ],
   "source": [
    "num1 =input(\"enter the first num:\")\n",
    "num2 = input(\"enter the second num:\")\n",
    "print(num1,num2)"
   ]
  },
  {
   "cell_type": "code",
   "execution_count": 18,
   "id": "b39c630a",
   "metadata": {},
   "outputs": [
    {
     "name": "stdout",
     "output_type": "stream",
     "text": [
      "the value of X is:2\n",
      "2\n",
      "144 12\n"
     ]
    }
   ],
   "source": [
    "x=input(\"the value of X is:\")\n",
    "x =int(x)\n",
    "print(x)\n",
    "x=x*x\n",
    "y=x*3\n",
    "x=y*y\n",
    "print(x,y)"
   ]
  },
  {
   "cell_type": "code",
   "execution_count": 24,
   "id": "c6a5fffb",
   "metadata": {},
   "outputs": [
    {
     "name": "stdout",
     "output_type": "stream",
     "text": [
      "enter the first num:2\n",
      "enter the second num:2\n",
      "2 2\n"
     ]
    }
   ],
   "source": [
    "num1 =int(input(\"enter the first num:\"))\n",
    "num2 = int(input(\"enter the second num:\"))\n",
    "print(num1,num2)"
   ]
  },
  {
   "cell_type": "code",
   "execution_count": 21,
   "id": "2a31bbcd",
   "metadata": {},
   "outputs": [
    {
     "name": "stdout",
     "output_type": "stream",
     "text": [
      "the value of X is:2\n",
      "2.0\n",
      "144.0 12.0\n"
     ]
    }
   ],
   "source": [
    "x=input(\"the value of X is:\")\n",
    "x =float(x)\n",
    "print(x)\n",
    "x=x*x\n",
    "y=x*3\n",
    "x=y*y\n",
    "print(x,y)"
   ]
  },
  {
   "cell_type": "code",
   "execution_count": 25,
   "id": "5723ef12",
   "metadata": {},
   "outputs": [
    {
     "name": "stdout",
     "output_type": "stream",
     "text": [
      "enter the first num:2\n",
      "enter the second num:2\n",
      "4.0\n"
     ]
    }
   ],
   "source": [
    "num1 =float(input(\"enter the first num:\"))\n",
    "num2 =int(input(\"enter the second num:\"))\n",
    "print(num1+num2)"
   ]
  },
  {
   "cell_type": "code",
   "execution_count": null,
   "id": "f30b19ab",
   "metadata": {},
   "outputs": [],
   "source": []
  }
 ],
 "metadata": {
  "kernelspec": {
   "display_name": "Python 3 (ipykernel)",
   "language": "python",
   "name": "python3"
  },
  "language_info": {
   "codemirror_mode": {
    "name": "ipython",
    "version": 3
   },
   "file_extension": ".py",
   "mimetype": "text/x-python",
   "name": "python",
   "nbconvert_exporter": "python",
   "pygments_lexer": "ipython3",
   "version": "3.9.16"
  }
 },
 "nbformat": 4,
 "nbformat_minor": 5
}
