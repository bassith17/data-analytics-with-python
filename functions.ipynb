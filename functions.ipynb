{
 "cells": [
  {
   "cell_type": "markdown",
   "id": "696f33f3",
   "metadata": {},
   "source": [
    "\n",
    "# functions"
   ]
  },
  {
   "cell_type": "code",
   "execution_count": 3,
   "id": "57fbb1fa",
   "metadata": {},
   "outputs": [
    {
     "name": "stdout",
     "output_type": "stream",
     "text": [
      "enter a name: aaa\n",
      "hi,my name is aaa\n"
     ]
    }
   ],
   "source": [
    "def intro(name):\n",
    "    print(f\"hi,my name is {name}\")\n",
    "stud_name=input(\"enter a name: \")\n",
    "intro(stud_name)"
   ]
  },
  {
   "cell_type": "code",
   "execution_count": 4,
   "id": "95032244",
   "metadata": {},
   "outputs": [
    {
     "name": "stdout",
     "output_type": "stream",
     "text": [
      "enter a section:b\n",
      "my section is b\n"
     ]
    }
   ],
   "source": [
    "def Class(sec):\n",
    "    print(f\"my section is {sec}\")\n",
    "stud_sec=input(\"enter a section:\")\n",
    "Class(stud_sec)"
   ]
  },
  {
   "cell_type": "code",
   "execution_count": 17,
   "id": "80139cbb",
   "metadata": {},
   "outputs": [
    {
     "name": "stdout",
     "output_type": "stream",
     "text": [
      "enter a value:5\n",
      "enter a value:6\n",
      "answer is11\n"
     ]
    }
   ],
   "source": [
    "def a():\n",
    "    x=r+s\n",
    "    print(f\"answer is{x}\")\n",
    "r=int(input(\"enter a value:\"))\n",
    "s=int(input(\"enter a value:\"))\n",
    "a()"
   ]
  },
  {
   "cell_type": "code",
   "execution_count": null,
   "id": "bd120c09",
   "metadata": {},
   "outputs": [],
   "source": []
  },
  {
   "cell_type": "code",
   "execution_count": null,
   "id": "96829cd6",
   "metadata": {},
   "outputs": [],
   "source": []
  },
  {
   "cell_type": "code",
   "execution_count": 20,
   "id": "67961199",
   "metadata": {},
   "outputs": [
    {
     "name": "stdout",
     "output_type": "stream",
     "text": [
      "enter a number:5\n",
      "enter a number:1\n",
      "answer is: 4\n"
     ]
    }
   ],
   "source": [
    "def b():\n",
    "    y=x-i\n",
    "    print(f\"answer is: {y}\")\n",
    "x=int(input(\"enter a number:\"))\n",
    "i=int(input(\"enter a number:\"))\n",
    "b()"
   ]
  },
  {
   "cell_type": "code",
   "execution_count": 22,
   "id": "7e74fb51",
   "metadata": {},
   "outputs": [
    {
     "name": "stdout",
     "output_type": "stream",
     "text": [
      "enter the number5\n",
      "enter the number6\n",
      "the sum is :11\n"
     ]
    }
   ],
   "source": [
    "def sumval(a,b):    #argument type 1\n",
    "    return a+b\n",
    "num1=int(input(\"enter the number\"))\n",
    "num2=int(input(\"enter the number\"))\n",
    "add=sumval(num1,num2)\n",
    "print(f\"the sum is :{add}\")"
   ]
  },
  {
   "cell_type": "code",
   "execution_count": 25,
   "id": "d6adcb86",
   "metadata": {},
   "outputs": [
    {
     "name": "stdout",
     "output_type": "stream",
     "text": [
      "the sum is:5\n"
     ]
    }
   ],
   "source": [
    "def sumis(a=2,b=3):   #argument type 2\n",
    "    return a+b\n",
    "add=sumis()\n",
    "print(f\"the sum is:{add}\")"
   ]
  },
  {
   "cell_type": "code",
   "execution_count": 26,
   "id": "71c25469",
   "metadata": {},
   "outputs": [
    {
     "name": "stdout",
     "output_type": "stream",
     "text": [
      "his last name refsnes\n"
     ]
    }
   ],
   "source": [
    "def my(**kid):\n",
    "    print(\"his last name \"+kid[\"lname\"])\n",
    "my(fname=\"tobias\",lname=\"refsnes\")"
   ]
  },
  {
   "cell_type": "code",
   "execution_count": null,
   "id": "a4cdbb78",
   "metadata": {},
   "outputs": [],
   "source": []
  },
  {
   "cell_type": "code",
   "execution_count": null,
   "id": "19acb30c",
   "metadata": {},
   "outputs": [],
   "source": []
  }
 ],
 "metadata": {
  "kernelspec": {
   "display_name": "Python 3 (ipykernel)",
   "language": "python",
   "name": "python3"
  },
  "language_info": {
   "codemirror_mode": {
    "name": "ipython",
    "version": 3
   },
   "file_extension": ".py",
   "mimetype": "text/x-python",
   "name": "python",
   "nbconvert_exporter": "python",
   "pygments_lexer": "ipython3",
   "version": "3.9.16"
  }
 },
 "nbformat": 4,
 "nbformat_minor": 5
}
